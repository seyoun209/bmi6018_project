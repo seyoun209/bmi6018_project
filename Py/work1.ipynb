{
 "metadata": {
  "language_info": {
   "codemirror_mode": {
    "name": "ipython",
    "version": 3
   },
   "file_extension": ".py",
   "mimetype": "text/x-python",
   "name": "python",
   "nbconvert_exporter": "python",
   "pygments_lexer": "ipython3",
   "version": "3.8.3-final"
  },
  "orig_nbformat": 2,
  "kernelspec": {
   "name": "python3",
   "display_name": "Python 3"
  }
 },
 "nbformat": 4,
 "nbformat_minor": 2,
 "cells": [
  {
   "cell_type": "code",
   "execution_count": 249,
   "metadata": {},
   "outputs": [
    {
     "output_type": "stream",
     "name": "stdout",
     "text": [
      "          0\n0      ACO1\n1     ACSL6\n2    ACVR1B\n3     AKAP9\n4       APC\n..      ...\n90     TP53\n91     TRIO\n92    WIPF1\n93      WT1\n94  ZC3H11A\n\n[95 rows x 1 columns]\n"
     ]
    }
   ],
   "source": [
    "import numpy as np\n",
    "import pandas as pd\n",
    "supervised_gene= pd.read_csv('../data/95_genes.txt',sep='\\t',header=None)\n",
    "print(supervised_gene)"
   ]
  },
  {
   "cell_type": "code",
   "execution_count": 250,
   "metadata": {},
   "outputs": [],
   "source": [
    "high_g = pd.read_csv('../data/highfinal.csv',sep='\\t',header=0)\n",
    "low_g = pd.read_csv('../data/lowfinal.csv',sep='\\t',header=0)"
   ]
  },
  {
   "cell_type": "code",
   "execution_count": 251,
   "metadata": {},
   "outputs": [
    {
     "output_type": "execute_result",
     "data": {
      "text/plain": [
       "Stage IV      46\n",
       "Stage IIIC    41\n",
       "Stage IVA     17\n",
       "Stage IIIB    15\n",
       "Stage III      5\n",
       "Stage IVB      2\n",
       "Name: V2, dtype: int64"
      ]
     },
     "metadata": {},
     "execution_count": 251
    }
   ],
   "source": [
    "high_g.loc[:,'V2'].value_counts()"
   ]
  },
  {
   "cell_type": "code",
   "execution_count": 252,
   "metadata": {},
   "outputs": [
    {
     "output_type": "execute_result",
     "data": {
      "text/plain": [
       "Stage IIA     137\n",
       "Stage IIIB     45\n",
       "Stage II       30\n",
       "Stage III      15\n",
       "Stage IIB      10\n",
       "Stage IIIA      8\n",
       "Stage IIC       1\n",
       "Name: V2, dtype: int64"
      ]
     },
     "metadata": {},
     "execution_count": 252
    }
   ],
   "source": [
    "low_g.loc[:,'V2'].value_counts()"
   ]
  },
  {
   "cell_type": "code",
   "execution_count": 253,
   "metadata": {},
   "outputs": [
    {
     "output_type": "stream",
     "name": "stdout",
     "text": [
      "               V1         V2   V3   V4\n0    TCGA-A6-2672  Low_stage   T3   N1\n1    TCGA-A6-2678  Low_stage   T3   N1\n2    TCGA-A6-4107  Low_stage   T3  N1b\n3    TCGA-A6-5657  Low_stage   T3   N1\n4    TCGA-A6-5667  Low_stage   T3  N1a\n..            ...        ...  ...  ...\n241  TCGA-NH-A8F7  Low_stage   T3   N0\n242  TCGA-QG-A5YX  Low_stage   T3   N0\n243  TCGA-SS-A7HO  Low_stage  T4a   N0\n244  TCGA-T9-A92H  Low_stage   T3   N0\n245  TCGA-WS-AB45  Low_stage   T3   N0\n\n[246 rows x 4 columns]\n"
     ]
    }
   ],
   "source": [
    "low_g.at[low_g.V2.isin(['Stage IIIB','Stage IIA','Stage II',\"Stage III\",\"Stage IIIA\",\"Stage IIC\",\"Stage IIB\"]),'V2'] = 'Low_stage'\n",
    "print(low_g)"
   ]
  },
  {
   "cell_type": "code",
   "execution_count": 254,
   "metadata": {},
   "outputs": [
    {
     "output_type": "stream",
     "name": "stdout",
     "text": [
      "               V1          V2   V3   V4\n0    TCGA-4N-A93T  High_stage  T4a  N1b\n1    TCGA-A6-2677  High_stage   T3   N2\n2    TCGA-A6-3807  High_stage   T3   N2\n3    TCGA-A6-5660  High_stage   T3  N2b\n4    TCGA-A6-5664  High_stage  T4a  N2a\n..            ...         ...  ...  ...\n121  TCGA-G4-6314  High_stage   T3   N2\n122  TCGA-G4-6315  High_stage   T3   N1\n123  TCGA-NH-A50U  High_stage  T4a   N0\n124  TCGA-NH-A6GC  High_stage  T4b  N1b\n125  TCGA-NH-A8F8  High_stage  T4a  N2b\n\n[126 rows x 4 columns]\n"
     ]
    }
   ],
   "source": [
    "high_g.at[high_g.V2.isin([\"Stage IV\",\"Stage IVA\",\"Stage IVB\",\"Stage IIIC\",\"Stage III\",\"Stage IIIB\"]),'V2'] = 'High_stage'\n",
    "print(high_g)"
   ]
  },
  {
   "cell_type": "code",
   "execution_count": 255,
   "metadata": {},
   "outputs": [
    {
     "output_type": "execute_result",
     "data": {
      "text/plain": [
       "Low_stage    246\n",
       "Name: V2, dtype: int64"
      ]
     },
     "metadata": {},
     "execution_count": 255
    }
   ],
   "source": [
    "low_g.loc[:,'V2'].value_counts()"
   ]
  },
  {
   "cell_type": "code",
   "execution_count": 256,
   "metadata": {},
   "outputs": [
    {
     "output_type": "execute_result",
     "data": {
      "text/plain": [
       "High_stage    126\n",
       "Name: V2, dtype: int64"
      ]
     },
     "metadata": {},
     "execution_count": 256
    }
   ],
   "source": [
    "high_g.loc[:,'V2'].value_counts()"
   ]
  },
  {
   "cell_type": "code",
   "execution_count": 257,
   "metadata": {},
   "outputs": [
    {
     "output_type": "stream",
     "name": "stdout",
     "text": [
      "          samples       APC      BRAF      CTNNB1      EGFR       KRAS  \\\n0    TCGA-A6-2670  310.4056   97.0018  14851.0582  795.3439  1268.0776   \n1    TCGA-A6-2671  256.9659  114.5511  38434.2415  886.8885   664.0867   \n2    TCGA-A6-2672  498.0892   84.0764  22588.3439  490.4076   993.6306   \n3    TCGA-A6-2674  292.8389  106.1381   7670.0639  347.8261  1566.4962   \n4    TCGA-A6-2676  454.5455  123.9669   7406.2102  652.8926   970.4841   \n..            ...       ...       ...         ...       ...        ...   \n152  TCGA-CM-4747   81.3048   56.9133  14606.4036  209.7663   474.8199   \n153  TCGA-CM-4748  612.2449   61.2245  11937.5510  353.2653   591.8367   \n154  TCGA-CM-4750  117.1797   61.5690   9301.9861  372.1053   551.1420   \n155  TCGA-CM-4752  190.7648   80.1438  13506.1730  343.8169   610.6732   \n156  TCGA-CM-5341  120.0466   61.7716  23799.8368  227.2727  1543.1235   \n\n         SMAD2      SMAD4       NRAS    PIK3CA     PIK3R1     MAP2K1  \\\n0    1005.2910  1085.2381  2393.2981  261.0229   901.2346   697.3369   \n1     852.9412  1036.8731   664.0867  261.6099  1049.5356   735.1858   \n2    1489.1720  1274.7898  1141.4013  192.3567  1073.8854  1425.7962   \n3    1365.7289   560.1023  1512.7877  291.5601   890.0256  1605.6522   \n4    1370.7202  1031.4168  1832.3495  233.7662   396.6942  1566.0803   \n..         ...        ...        ...       ...        ...        ...   \n152   678.0819   646.6657   469.9416  133.3398   312.2104   532.4325   \n153  1061.2245  1081.6327  1142.8571   61.2245  1224.4898   959.1837   \n154   795.4320   600.0099  1139.0268  173.7835   669.3148  1258.4508   \n155   855.6198  1061.4652  1581.4292  189.6361   728.0670   965.1120   \n156  1315.8508  1176.0723  4252.9138  285.5478   609.5571   676.5967   \n\n         SOS2     TCF7L2     TGFBR2       TP53      AXIN2          V2   V3  \\\n0    693.1217   460.3175  3435.6261  2753.0864  6374.6561   Low_stage   T3   \n1    260.0619   823.5294  3032.5077   275.5418  4190.4025  High_stage   T3   \n2    477.7070  1456.0510  1020.3822  3593.6306   598.7261   Low_stage   T3   \n3    728.9003   826.0870  3245.5243   673.9130   794.1176  High_stage   T3   \n4    401.4168   650.5313  1377.8040  3486.4227   126.3282   Low_stage   T4   \n..        ...        ...        ...        ...        ...         ...  ...   \n152  279.6884   624.4207  2019.6107  4266.8748  5308.1451  High_stage  T4a   \n153  551.0204  1142.8571  2918.3673  4469.3878  1612.2449  High_stage  T4a   \n154  303.8729   647.4677   983.1182  2921.5492  3126.9017   Low_stage   T1   \n155  675.0140   772.0896  1669.4745  2895.3361  1852.3379   Low_stage   T3   \n156  806.5268   304.1958  2581.5851  1665.5012   846.1538   Low_stage   T2   \n\n      V4  \n0     N0  \n1     N2  \n2     N1  \n3     N2  \n4     N0  \n..   ...  \n152  N1b  \n153  N1a  \n154  N1b  \n155   N0  \n156  N1a  \n\n[157 rows x 20 columns]\n"
     ]
    }
   ],
   "source": [
    "ga_gene= pd.read_csv('../data/gafinal.csv',sep='\\t',header=0)\n",
    "print(ga_gene)"
   ]
  },
  {
   "cell_type": "code",
   "execution_count": 258,
   "metadata": {},
   "outputs": [
    {
     "output_type": "stream",
     "name": "stdout",
     "text": [
      "          samples        APC      BRAF      CTNNB1       EGFR       KRAS  \\\n0    TCGA-4N-A93T   583.9381   40.6386   6480.8079   432.0029  1250.1209   \n1    TCGA-4T-AA8H   701.1515   95.0466   9065.6626   636.7977  1689.6363   \n2    TCGA-5M-AAT4   666.0929  132.9604   5181.5060   481.9191   885.5422   \n3    TCGA-5M-AAT6   669.3605  136.4970   6640.8963   438.3524  1797.4299   \n4    TCGA-5M-AATE   437.9747  129.0584  17263.4748   482.4175   739.3398   \n..            ...        ...       ...         ...        ...        ...   \n220  TCGA-QG-A5Z1   429.0401  220.4089  11730.3407  1551.5673  1640.7840   \n221  TCGA-RU-A8FL   391.9164  134.8774   4806.4805   377.8247   855.1317   \n222  TCGA-SS-A7HO   345.5227  160.1415  18678.8847   196.0646   817.2439   \n223  TCGA-T9-A92H   257.4674  105.5953   7589.3016   442.9659  1329.4068   \n224  TCGA-WS-AB45  1157.7878  220.0521   8346.5479   742.2192  1271.6356   \n\n         SMAD2      SMAD4       NRAS    PIK3CA     PIK3R1     MAP2K1  \\\n0     876.6328    53.2172   876.6328  206.0958   910.9821   518.7131   \n1    1114.9698   746.9201  1305.0631  299.0313   801.3160  1075.1819   \n2     848.5370   573.2616  1175.1291  369.1910   768.5026   971.6954   \n3    1555.9351  1099.8512  1307.8779  292.0249  1309.8467  1183.4491   \n4    1447.1015   999.5160  1531.5386  241.6412  1676.3861   699.5514   \n..         ...        ...        ...       ...        ...        ...   \n220   978.5480   988.9796  3308.4883  399.7644  1001.0936  1006.2522   \n221   846.9573   545.4133  2228.8828  163.9419   625.7947   841.7893   \n222   720.6368   738.2350  1394.2756  273.7201  1979.5754  1186.0089   \n223   716.0286   645.1031  1491.3757  241.0602  1151.8721   865.4144   \n224  1837.6563  1720.1155  1618.0065  672.6272  1653.8102  1727.8193   \n\n          SOS2     TCF7L2     TGFBR2       TP53      AXIN2          V2   V3  \\\n0     584.9057  1739.2356  2739.2356  1828.7373  2205.6120  High_stage  T4a   \n1     869.3109  2238.7132  2486.5655  3122.6467  6372.6558   Low_stage   T3   \n2     577.4527  1012.9088  2772.8055  3036.5749  2437.5043  High_stage   T3   \n3     565.0190  1039.4775  1676.6825  3317.2720   303.8372  High_stage  T4a   \n4     444.8396   885.5602  2163.1010  1939.3082  9066.5372   Low_stage   T3   \n..         ...        ...        ...        ...        ...         ...  ...   \n220  1267.2668  1002.7761  4158.4925   269.5382  5926.4676   Low_stage   T3   \n221   671.6621   810.1726  2246.1399  2231.6076  3883.9873  High_stage   T3   \n222   463.4530   751.5337  4673.2602  1191.9229  8551.1871   Low_stage  T4a   \n223   428.2709  1140.0926  1593.1847  2862.0109  5149.4994   Low_stage   T3   \n224   993.6539   615.0999  6154.6198  1470.3664   247.8100   Low_stage   T3   \n\n      V4  \n0    N1b  \n1     N0  \n2     N0  \n3    N2b  \n4     N0  \n..   ...  \n220  N1b  \n221  N2a  \n222   N0  \n223   N0  \n224   N0  \n\n[225 rows x 20 columns]\n"
     ]
    }
   ],
   "source": [
    "hiseq_gene= pd.read_csv('../data/hiseqfinal.csv',sep='\\t',header=0)\n",
    "print(hiseq_gene)"
   ]
  },
  {
   "cell_type": "code",
   "execution_count": 259,
   "metadata": {},
   "outputs": [],
   "source": [
    "# Kruskall Test\n",
    "from sklearn import datasets\n",
    "from scipy import stats"
   ]
  },
  {
   "cell_type": "code",
   "execution_count": 260,
   "metadata": {},
   "outputs": [
    {
     "output_type": "execute_result",
     "data": {
      "text/plain": [
       "Low_stage     103\n",
       "High_stage     54\n",
       "Name: V2, dtype: int64"
      ]
     },
     "metadata": {},
     "execution_count": 260
    }
   ],
   "source": [
    "ga_gene.loc[:,'V2'].value_counts(dropna=False)"
   ]
  },
  {
   "cell_type": "code",
   "execution_count": 261,
   "metadata": {},
   "outputs": [],
   "source": [
    "ga_gene_df = ga_gene[~ga_gene['V2'].isnull()]\n",
    "lower_ga = ga_gene_df[ga_gene_df['V2'].isin(['Low_stage'])]\n",
    "higher_ga = ga_gene_df[ga_gene_df['V2'].isin(['High_stage'])]"
   ]
  },
  {
   "cell_type": "code",
   "execution_count": 262,
   "metadata": {},
   "outputs": [],
   "source": [
    "colum_nm = ga_gene_df.columns[1:-3]\n",
    "final_test =[]\n",
    "for col in colum_nm:\n",
    "    kruskal_test, kruskal_pvalue = stats.mannwhitneyu(lower_ga.loc[:,col],higher_ga.loc[:,col])\n",
    "    vari_test, levene_pvalue = stats.levene(lower_ga.loc[:,col],higher_ga.loc[:,col],center='mean')\n",
    "    #ttest_stat, ttest_pvalue = stats.ttest_ind(lower_sp.loc[:,col],higher_sp.loc[:,col])\n",
    "    final_test.append([col,kruskal_pvalue,levene_pvalue])"
   ]
  },
  {
   "cell_type": "code",
   "execution_count": 263,
   "metadata": {},
   "outputs": [],
   "source": [
    "final_test_df = pd.DataFrame(final_test,columns=['Gene', 'kruskal_pvalue', 'variance_pval'])\n",
    "#final_test_df.head()\n",
    "test_fi_1 = final_test_df[(final_test_df[\"kruskal_pvalue\"] < 0.05)]\n",
    "test_fi_result = test_fi_1[(test_fi_1[\"variance_pval\"] < 0.05)]\n",
    "new_selected_gene = test_fi_result.iloc[:,0].array\n",
    "gene_expression_df = ga_gene_df.loc[:,new_selected_gene]"
   ]
  },
  {
   "cell_type": "code",
   "execution_count": 264,
   "metadata": {},
   "outputs": [
    {
     "output_type": "stream",
     "name": "stdout",
     "text": [
      "0        APC\n1       BRAF\n3       EGFR\n4       KRAS\n5      SMAD2\n6      SMAD4\n10    MAP2K1\n12    TCF7L2\n13    TGFBR2\nName: Gene, dtype: object\n"
     ]
    }
   ],
   "source": [
    "testgenes =test_fi_1.loc[:,'Gene'] \n",
    "print(testgenes)"
   ]
  },
  {
   "cell_type": "code",
   "execution_count": 265,
   "metadata": {},
   "outputs": [],
   "source": [
    "gaexpression =ga_gene[['samples','APC','BRAF','EGFR','KRAS','SMAD2','SMAD4','MAP2K1','TCF7L2','TGFBR2']]"
   ]
  },
  {
   "cell_type": "code",
   "execution_count": 266,
   "metadata": {},
   "outputs": [
    {
     "output_type": "execute_result",
     "data": {
      "text/plain": [
       "Low_stage     151\n",
       "High_stage     74\n",
       "Name: V2, dtype: int64"
      ]
     },
     "metadata": {},
     "execution_count": 266
    }
   ],
   "source": [
    "#Hiseq\n",
    "hiseq_gene.loc[:,'V2'].value_counts(dropna=False)"
   ]
  },
  {
   "cell_type": "code",
   "execution_count": 267,
   "metadata": {},
   "outputs": [],
   "source": [
    "hiseq_gene_df = hiseq_gene[~hiseq_gene['V2'].isnull()]\n",
    "lower_hiseq = hiseq_gene_df[hiseq_gene_df['V2'].isin(['Low_stage'])]\n",
    "higher_hiseq = hiseq_gene_df[hiseq_gene_df['V2'].isin(['High_stage'])]"
   ]
  },
  {
   "cell_type": "code",
   "execution_count": 268,
   "metadata": {},
   "outputs": [],
   "source": [
    "colum_nm = hiseq_gene_df.columns[1:-3]\n",
    "final_test =[]\n",
    "for col in colum_nm:\n",
    "    kruskal_test, kruskal_pvalue = stats.mannwhitneyu(lower_hiseq.loc[:,col],higher_hiseq.loc[:,col])\n",
    "    vari_test, levene_pvalue = stats.levene(lower_hiseq.loc[:,col],higher_hiseq.loc[:,col],center='mean')\n",
    "    #ttest_stat, ttest_pvalue = stats.ttest_ind(lower_sp.loc[:,col],higher_sp.loc[:,col])\n",
    "    final_test.append([col,kruskal_pvalue,levene_pvalue])"
   ]
  },
  {
   "cell_type": "code",
   "execution_count": 269,
   "metadata": {},
   "outputs": [],
   "source": [
    "final_test_df = pd.DataFrame(final_test,columns=['Gene', 'kruskal_pvalue', 'variance_pval'])\n",
    "#final_test_df.head()\n",
    "test_fi_2= final_test_df[(final_test_df[\"kruskal_pvalue\"] < 0.05)]\n",
    "test_fi_hiseq = test_fi_2[(test_fi_2[\"variance_pval\"] < 0.05)]\n",
    "new_selected_gene_hiseq = test_fi_hiseq .iloc[:,0].array\n",
    "gene_expression_df_hiseq = hiseq_gene_df.loc[:,new_selected_gene_hiseq]"
   ]
  },
  {
   "cell_type": "code",
   "execution_count": 270,
   "metadata": {},
   "outputs": [
    {
     "output_type": "execute_result",
     "data": {
      "text/plain": [
       "      Gene  kruskal_pvalue  variance_pval\n",
       "0      APC        0.127127       0.298399\n",
       "1     BRAF        0.025079       0.981420\n",
       "2   CTNNB1        0.010456       0.914908\n",
       "3     EGFR        0.089844       0.397567\n",
       "4     KRAS        0.271894       0.510392\n",
       "5    SMAD2        0.003185       0.643722\n",
       "6    SMAD4        0.000923       0.052728\n",
       "7     NRAS        0.101307       0.716591\n",
       "8   PIK3CA        0.013277       0.585769\n",
       "9   PIK3R1        0.144456       0.071445\n",
       "10  MAP2K1        0.008075       0.259994\n",
       "11    SOS2        0.470893       0.599588\n",
       "12  TCF7L2        0.290269       0.696024\n",
       "13  TGFBR2        0.000104       0.234244\n",
       "14    TP53        0.305376       0.643036\n",
       "15   AXIN2        0.305376       0.305049"
      ],
      "text/html": "<div>\n<style scoped>\n    .dataframe tbody tr th:only-of-type {\n        vertical-align: middle;\n    }\n\n    .dataframe tbody tr th {\n        vertical-align: top;\n    }\n\n    .dataframe thead th {\n        text-align: right;\n    }\n</style>\n<table border=\"1\" class=\"dataframe\">\n  <thead>\n    <tr style=\"text-align: right;\">\n      <th></th>\n      <th>Gene</th>\n      <th>kruskal_pvalue</th>\n      <th>variance_pval</th>\n    </tr>\n  </thead>\n  <tbody>\n    <tr>\n      <th>0</th>\n      <td>APC</td>\n      <td>0.127127</td>\n      <td>0.298399</td>\n    </tr>\n    <tr>\n      <th>1</th>\n      <td>BRAF</td>\n      <td>0.025079</td>\n      <td>0.981420</td>\n    </tr>\n    <tr>\n      <th>2</th>\n      <td>CTNNB1</td>\n      <td>0.010456</td>\n      <td>0.914908</td>\n    </tr>\n    <tr>\n      <th>3</th>\n      <td>EGFR</td>\n      <td>0.089844</td>\n      <td>0.397567</td>\n    </tr>\n    <tr>\n      <th>4</th>\n      <td>KRAS</td>\n      <td>0.271894</td>\n      <td>0.510392</td>\n    </tr>\n    <tr>\n      <th>5</th>\n      <td>SMAD2</td>\n      <td>0.003185</td>\n      <td>0.643722</td>\n    </tr>\n    <tr>\n      <th>6</th>\n      <td>SMAD4</td>\n      <td>0.000923</td>\n      <td>0.052728</td>\n    </tr>\n    <tr>\n      <th>7</th>\n      <td>NRAS</td>\n      <td>0.101307</td>\n      <td>0.716591</td>\n    </tr>\n    <tr>\n      <th>8</th>\n      <td>PIK3CA</td>\n      <td>0.013277</td>\n      <td>0.585769</td>\n    </tr>\n    <tr>\n      <th>9</th>\n      <td>PIK3R1</td>\n      <td>0.144456</td>\n      <td>0.071445</td>\n    </tr>\n    <tr>\n      <th>10</th>\n      <td>MAP2K1</td>\n      <td>0.008075</td>\n      <td>0.259994</td>\n    </tr>\n    <tr>\n      <th>11</th>\n      <td>SOS2</td>\n      <td>0.470893</td>\n      <td>0.599588</td>\n    </tr>\n    <tr>\n      <th>12</th>\n      <td>TCF7L2</td>\n      <td>0.290269</td>\n      <td>0.696024</td>\n    </tr>\n    <tr>\n      <th>13</th>\n      <td>TGFBR2</td>\n      <td>0.000104</td>\n      <td>0.234244</td>\n    </tr>\n    <tr>\n      <th>14</th>\n      <td>TP53</td>\n      <td>0.305376</td>\n      <td>0.643036</td>\n    </tr>\n    <tr>\n      <th>15</th>\n      <td>AXIN2</td>\n      <td>0.305376</td>\n      <td>0.305049</td>\n    </tr>\n  </tbody>\n</table>\n</div>"
     },
     "metadata": {},
     "execution_count": 270
    }
   ],
   "source": [
    "final_test_df"
   ]
  },
  {
   "cell_type": "code",
   "execution_count": 271,
   "metadata": {},
   "outputs": [],
   "source": [
    "hiseqexpression =hiseq_gene[['samples','APC','BRAF','EGFR','KRAS','SMAD2','SMAD4','MAP2K1','TCF7L2','TGFBR2']]"
   ]
  },
  {
   "cell_type": "code",
   "execution_count": 272,
   "metadata": {},
   "outputs": [],
   "source": [
    "#model\n",
    "from sklearn.preprocessing import StandardScaler\n",
    "from sklearn.model_selection import StratifiedKFold,train_test_split\n",
    "from sklearn.utils import resample\n",
    "from collections import Counter\n",
    "import collections"
   ]
  },
  {
   "cell_type": "code",
   "execution_count": 273,
   "metadata": {},
   "outputs": [],
   "source": [
    "testga = gaexpression.iloc[:,1:10]\n",
    "testhiseq = hiseqexpression.iloc[:,1:10]\n",
    "scaler = StandardScaler(copy=True,with_mean=True, with_std=True) \n",
    "rescaledX_train = scaler.fit_transform(testga)\n",
    "rescaledX_test =scaler.fit_transform(testhiseq)\n",
    "y_train =ga_gene.loc[:,'V2']\n",
    "y_test = hiseq_gene.loc[:,'V2']"
   ]
  },
  {
   "cell_type": "code",
   "execution_count": 274,
   "metadata": {},
   "outputs": [],
   "source": [
    "def four_modles():\n",
    "    #from sklearn.linear_model import LinearClassifier\n",
    "    np.random.seed(1)\n",
    "    from sklearn.tree import DecisionTreeClassifier \n",
    "    from sklearn.neighbors import KNeighborsClassifier \n",
    "    from sklearn.svm import SVC\n",
    "    from sklearn.ensemble import RandomForestClassifier\n",
    "    from sklearn.metrics import accuracy_score\n",
    "    from sklearn.linear_model import LogisticRegression\n",
    "        \n",
    "    ln_clf = LogisticRegression()\n",
    "    ds_clf = DecisionTreeClassifier()\n",
    "    knn_clf = KNeighborsClassifier()\n",
    "    svc_clf = SVC(gamma='auto')\n",
    "    rf_clf = RandomForestClassifier(n_estimators=100)\n",
    "    \n",
    "    for clf in (ln_clf,ds_clf, knn_clf, svc_clf, rf_clf):\n",
    "        clf.fit(rescaledX_train, y_train)\n",
    "        y_pred = clf.predict(rescaledX_test)\n",
    "        print(clf.__class__.__name__,accuracy_score(y_test, y_pred))"
   ]
  },
  {
   "cell_type": "code",
   "execution_count": 275,
   "metadata": {},
   "outputs": [
    {
     "output_type": "stream",
     "name": "stdout",
     "text": [
      "LogisticRegression 0.6888888888888889\n",
      "DecisionTreeClassifier 0.48444444444444446\n",
      "KNeighborsClassifier 0.6222222222222222\n",
      "SVC 0.6533333333333333\n",
      "RandomForestClassifier 0.6577777777777778\n"
     ]
    }
   ],
   "source": [
    "four_modles()"
   ]
  },
  {
   "cell_type": "code",
   "execution_count": 276,
   "metadata": {},
   "outputs": [],
   "source": [
    "from sklearn.tree import DecisionTreeClassifier \n",
    "from sklearn.neighbors import KNeighborsClassifier \n",
    "from sklearn.svm import SVC\n",
    "from sklearn.ensemble import RandomForestClassifier, VotingClassifier, AdaBoostClassifier, BaggingClassifier\n",
    "from sklearn.metrics import accuracy_score\n",
    "from sklearn.linear_model import LogisticRegression\n",
    "from sklearn.naive_bayes import GaussianNB\n",
    "Index=range(0,len(rescaledX_train))\n",
    "\n",
    "clf1 = LogisticRegression(solver='lbfgs', multi_class='multinomial', random_state=1)\n",
    "clf2 = RandomForestClassifier(random_state=1)\n",
    "clf3 = GaussianNB()\n",
    "ln_clf = LogisticRegression()\n",
    "ds_clf = DecisionTreeClassifier()\n",
    "knn_clf = KNeighborsClassifier()\n",
    "svc_clf = SVC(gamma='auto')\n",
    "rf_clf = RandomForestClassifier(n_estimators=100)\n",
    "voting_clf = VotingClassifier(estimators=[('lr', clf1), ('rf', clf2), ('gnb', clf3)])\n",
    "ada_clf = AdaBoostClassifier()\n",
    "bagging_clf =BaggingClassifier(DecisionTreeClassifier())"
   ]
  },
  {
   "cell_type": "code",
   "execution_count": 280,
   "metadata": {},
   "outputs": [],
   "source": [
    "X_test = []\n",
    "y_test =[]\n",
    "boot = []\n",
    "oob =[]\n",
    "final_acc =[]\n",
    "def bootstrap_cross_validation(n_split,x_index,df_test,df_outcome):\n",
    "    #np.random.seed(1)\n",
    "    scaler = StandardScaler(copy=True,with_mean=True, with_std=True)\n",
    "    for i in range(n_split):\n",
    "        boot = resample(x_index, replace=True, n_samples=len(x_index))\n",
    "    #out of bag observations\n",
    "        oob = [x for x in x_index if x not in boot]\n",
    "        X_train = df_test.iloc[boot]\n",
    "        X_test = df_test.iloc[oob]\n",
    "        y_train = df_outcome.iloc[boot]\n",
    "        y_test = df_outcome.iloc[oob]\n",
    "        rescaledX_train =scaler.fit_transform(X_train)\n",
    "        rescaledX_test =scaler.fit_transform(X_test)\n",
    "        print('test ------------------------------------------')\n",
    "        for clf in (ln_clf,ds_clf, knn_clf, svc_clf, rf_clf,voting_clf,ada_clf,bagging_clf):\n",
    "            clf.fit(rescaledX_train, y_train)\n",
    "            y_pred = clf.predict(rescaledX_test)\n",
    "            final_acc.append(accuracy_score(y_test, y_pred))\n",
    "            print(clf.__class__.__name__,accuracy_score(y_test, y_pred))\n",
    "    return final_acc"
   ]
  },
  {
   "cell_type": "code",
   "execution_count": 284,
   "metadata": {},
   "outputs": [
    {
     "output_type": "stream",
     "name": "stdout",
     "text": [
      "test ------------------------------------------\n",
      "LogisticRegression 0.6724137931034483\n",
      "DecisionTreeClassifier 0.6206896551724138\n",
      "KNeighborsClassifier 0.6206896551724138\n",
      "SVC 0.6724137931034483\n",
      "RandomForestClassifier 0.7413793103448276\n",
      "VotingClassifier 0.6551724137931034\n",
      "AdaBoostClassifier 0.6379310344827587\n",
      "BaggingClassifier 0.6896551724137931\n",
      "test ------------------------------------------\n",
      "LogisticRegression 0.6833333333333333\n",
      "DecisionTreeClassifier 0.6833333333333333\n",
      "KNeighborsClassifier 0.6166666666666667\n",
      "SVC 0.6\n",
      "RandomForestClassifier 0.7166666666666667\n",
      "VotingClassifier 0.7333333333333333\n",
      "AdaBoostClassifier 0.4666666666666667\n",
      "BaggingClassifier 0.6166666666666667\n",
      "test ------------------------------------------\n",
      "LogisticRegression 0.6346153846153846\n",
      "DecisionTreeClassifier 0.6538461538461539\n",
      "KNeighborsClassifier 0.6923076923076923\n",
      "SVC 0.6730769230769231\n",
      "RandomForestClassifier 0.5961538461538461\n",
      "VotingClassifier 0.6346153846153846\n",
      "AdaBoostClassifier 0.6538461538461539\n",
      "BaggingClassifier 0.5961538461538461\n",
      "test ------------------------------------------\n",
      "LogisticRegression 0.6610169491525424\n",
      "DecisionTreeClassifier 0.559322033898305\n",
      "KNeighborsClassifier 0.6271186440677966\n",
      "SVC 0.559322033898305\n",
      "RandomForestClassifier 0.559322033898305\n",
      "VotingClassifier 0.559322033898305\n",
      "AdaBoostClassifier 0.4745762711864407\n",
      "BaggingClassifier 0.5084745762711864\n",
      "test ------------------------------------------\n",
      "LogisticRegression 0.5454545454545454\n",
      "DecisionTreeClassifier 0.5454545454545454\n",
      "KNeighborsClassifier 0.5818181818181818\n",
      "SVC 0.509090909090909\n",
      "RandomForestClassifier 0.45454545454545453\n",
      "VotingClassifier 0.4909090909090909\n",
      "AdaBoostClassifier 0.4727272727272727\n",
      "BaggingClassifier 0.43636363636363634\n",
      "test ------------------------------------------\n",
      "LogisticRegression 0.5901639344262295\n",
      "DecisionTreeClassifier 0.5901639344262295\n",
      "KNeighborsClassifier 0.6229508196721312\n",
      "SVC 0.5409836065573771\n",
      "RandomForestClassifier 0.5573770491803278\n",
      "VotingClassifier 0.5737704918032787\n",
      "AdaBoostClassifier 0.6229508196721312\n",
      "BaggingClassifier 0.5409836065573771\n",
      "test ------------------------------------------\n",
      "LogisticRegression 0.7096774193548387\n",
      "DecisionTreeClassifier 0.5161290322580645\n",
      "KNeighborsClassifier 0.6774193548387096\n",
      "SVC 0.5967741935483871\n",
      "RandomForestClassifier 0.6129032258064516\n",
      "VotingClassifier 0.6129032258064516\n",
      "AdaBoostClassifier 0.5806451612903226\n",
      "BaggingClassifier 0.5806451612903226\n",
      "test ------------------------------------------\n",
      "LogisticRegression 0.6851851851851852\n",
      "DecisionTreeClassifier 0.6296296296296297\n",
      "KNeighborsClassifier 0.6481481481481481\n",
      "SVC 0.6666666666666666\n",
      "RandomForestClassifier 0.6851851851851852\n",
      "VotingClassifier 0.6851851851851852\n",
      "AdaBoostClassifier 0.6111111111111112\n",
      "BaggingClassifier 0.6481481481481481\n",
      "test ------------------------------------------\n",
      "LogisticRegression 0.5172413793103449\n",
      "DecisionTreeClassifier 0.5689655172413793\n",
      "KNeighborsClassifier 0.6206896551724138\n",
      "SVC 0.6379310344827587\n",
      "RandomForestClassifier 0.6551724137931034\n",
      "VotingClassifier 0.5689655172413793\n",
      "AdaBoostClassifier 0.603448275862069\n",
      "BaggingClassifier 0.603448275862069\n",
      "test ------------------------------------------\n",
      "LogisticRegression 0.6415094339622641\n",
      "DecisionTreeClassifier 0.660377358490566\n",
      "KNeighborsClassifier 0.6226415094339622\n",
      "SVC 0.6415094339622641\n",
      "RandomForestClassifier 0.660377358490566\n",
      "VotingClassifier 0.6226415094339622\n",
      "AdaBoostClassifier 0.6226415094339622\n",
      "BaggingClassifier 0.6415094339622641\n"
     ]
    }
   ],
   "source": [
    "final_acc = bootstrafinal_acc = bootstrap_cross_validation(10,Index,testga,y_train)"
   ]
  },
  {
   "cell_type": "code",
   "execution_count": 285,
   "metadata": {},
   "outputs": [],
   "source": [
    "def row_major(alist, sublen):      \n",
    "    return [alist[i:i+sublen] for i in range(0, len(alist), sublen)]\n",
    "r_acc =[]\n",
    "for r in row_major(final_acc, 8): \n",
    "    r_acc.append(r)"
   ]
  },
  {
   "cell_type": "code",
   "execution_count": 286,
   "metadata": {},
   "outputs": [
    {
     "output_type": "execute_result",
     "data": {
      "text/plain": [
       "               0          1          2          3          4          5  \\\n",
       "count  10.000000  10.000000  10.000000  10.000000  10.000000  10.000000   \n",
       "mean    0.634061   0.602791   0.633045   0.609777   0.623908   0.613682   \n",
       "std     0.063629   0.055218   0.031889   0.058354   0.086048   0.069354   \n",
       "min     0.517241   0.516129   0.581818   0.509091   0.454545   0.490909   \n",
       "25%     0.601277   0.561733   0.620690   0.568685   0.568530   0.570167   \n",
       "50%     0.651263   0.605427   0.622796   0.618966   0.634038   0.617772   \n",
       "75%     0.680603   0.647792   0.642891   0.660377   0.678983   0.650033   \n",
       "max     0.709677   0.683333   0.692308   0.673077   0.741379   0.733333   \n",
       "\n",
       "               6          7  \n",
       "count  10.000000  10.000000  \n",
       "mean    0.574654   0.586205  \n",
       "std     0.073915   0.074156  \n",
       "min     0.466667   0.436364  \n",
       "25%     0.501093   0.550899  \n",
       "50%     0.607280   0.599801  \n",
       "75%     0.622873   0.635299  \n",
       "max     0.653846   0.689655  "
      ],
      "text/html": "<div>\n<style scoped>\n    .dataframe tbody tr th:only-of-type {\n        vertical-align: middle;\n    }\n\n    .dataframe tbody tr th {\n        vertical-align: top;\n    }\n\n    .dataframe thead th {\n        text-align: right;\n    }\n</style>\n<table border=\"1\" class=\"dataframe\">\n  <thead>\n    <tr style=\"text-align: right;\">\n      <th></th>\n      <th>0</th>\n      <th>1</th>\n      <th>2</th>\n      <th>3</th>\n      <th>4</th>\n      <th>5</th>\n      <th>6</th>\n      <th>7</th>\n    </tr>\n  </thead>\n  <tbody>\n    <tr>\n      <th>count</th>\n      <td>10.000000</td>\n      <td>10.000000</td>\n      <td>10.000000</td>\n      <td>10.000000</td>\n      <td>10.000000</td>\n      <td>10.000000</td>\n      <td>10.000000</td>\n      <td>10.000000</td>\n    </tr>\n    <tr>\n      <th>mean</th>\n      <td>0.634061</td>\n      <td>0.602791</td>\n      <td>0.633045</td>\n      <td>0.609777</td>\n      <td>0.623908</td>\n      <td>0.613682</td>\n      <td>0.574654</td>\n      <td>0.586205</td>\n    </tr>\n    <tr>\n      <th>std</th>\n      <td>0.063629</td>\n      <td>0.055218</td>\n      <td>0.031889</td>\n      <td>0.058354</td>\n      <td>0.086048</td>\n      <td>0.069354</td>\n      <td>0.073915</td>\n      <td>0.074156</td>\n    </tr>\n    <tr>\n      <th>min</th>\n      <td>0.517241</td>\n      <td>0.516129</td>\n      <td>0.581818</td>\n      <td>0.509091</td>\n      <td>0.454545</td>\n      <td>0.490909</td>\n      <td>0.466667</td>\n      <td>0.436364</td>\n    </tr>\n    <tr>\n      <th>25%</th>\n      <td>0.601277</td>\n      <td>0.561733</td>\n      <td>0.620690</td>\n      <td>0.568685</td>\n      <td>0.568530</td>\n      <td>0.570167</td>\n      <td>0.501093</td>\n      <td>0.550899</td>\n    </tr>\n    <tr>\n      <th>50%</th>\n      <td>0.651263</td>\n      <td>0.605427</td>\n      <td>0.622796</td>\n      <td>0.618966</td>\n      <td>0.634038</td>\n      <td>0.617772</td>\n      <td>0.607280</td>\n      <td>0.599801</td>\n    </tr>\n    <tr>\n      <th>75%</th>\n      <td>0.680603</td>\n      <td>0.647792</td>\n      <td>0.642891</td>\n      <td>0.660377</td>\n      <td>0.678983</td>\n      <td>0.650033</td>\n      <td>0.622873</td>\n      <td>0.635299</td>\n    </tr>\n    <tr>\n      <th>max</th>\n      <td>0.709677</td>\n      <td>0.683333</td>\n      <td>0.692308</td>\n      <td>0.673077</td>\n      <td>0.741379</td>\n      <td>0.733333</td>\n      <td>0.653846</td>\n      <td>0.689655</td>\n    </tr>\n  </tbody>\n</table>\n</div>"
     },
     "metadata": {},
     "execution_count": 286
    }
   ],
   "source": [
    "r_acc = pd.DataFrame(r_acc)\n",
    "r_acc.describe()\n"
   ]
  },
  {
   "cell_type": "code",
   "execution_count": 287,
   "metadata": {},
   "outputs": [],
   "source": [
    "# Random search\n",
    "from sklearn.model_selection import RandomizedSearchCV"
   ]
  },
  {
   "cell_type": "code",
   "execution_count": 288,
   "metadata": {},
   "outputs": [
    {
     "output_type": "stream",
     "name": "stdout",
     "text": [
      "{'C': 1.0, 'class_weight': None, 'dual': False, 'fit_intercept': True, 'intercept_scaling': 1, 'l1_ratio': None, 'max_iter': 100, 'multi_class': 'auto', 'n_jobs': None, 'penalty': 'l2', 'random_state': None, 'solver': 'lbfgs', 'tol': 0.0001, 'verbose': 0, 'warm_start': False}\n"
     ]
    }
   ],
   "source": [
    "print(ln_clf.get_params())"
   ]
  },
  {
   "cell_type": "code",
   "execution_count": 289,
   "metadata": {},
   "outputs": [
    {
     "output_type": "stream",
     "name": "stdout",
     "text": [
      "{'ccp_alpha': 0.0, 'class_weight': None, 'criterion': 'gini', 'max_depth': None, 'max_features': None, 'max_leaf_nodes': None, 'min_impurity_decrease': 0.0, 'min_impurity_split': None, 'min_samples_leaf': 1, 'min_samples_split': 2, 'min_weight_fraction_leaf': 0.0, 'presort': 'deprecated', 'random_state': None, 'splitter': 'best'}\n"
     ]
    }
   ],
   "source": [
    "print(ds_clf.get_params())"
   ]
  },
  {
   "cell_type": "code",
   "execution_count": 290,
   "metadata": {},
   "outputs": [
    {
     "output_type": "stream",
     "name": "stdout",
     "text": [
      "{'algorithm': 'auto', 'leaf_size': 30, 'metric': 'minkowski', 'metric_params': None, 'n_jobs': None, 'n_neighbors': 5, 'p': 2, 'weights': 'uniform'}\n"
     ]
    }
   ],
   "source": [
    "print(knn_clf.get_params())"
   ]
  },
  {
   "cell_type": "code",
   "execution_count": 291,
   "metadata": {},
   "outputs": [
    {
     "output_type": "stream",
     "name": "stdout",
     "text": [
      "{'C': 1.0, 'break_ties': False, 'cache_size': 200, 'class_weight': None, 'coef0': 0.0, 'decision_function_shape': 'ovr', 'degree': 3, 'gamma': 'auto', 'kernel': 'rbf', 'max_iter': -1, 'probability': False, 'random_state': None, 'shrinking': True, 'tol': 0.001, 'verbose': False}\n"
     ]
    }
   ],
   "source": [
    "print(svc_clf.get_params())"
   ]
  },
  {
   "cell_type": "code",
   "execution_count": 292,
   "metadata": {},
   "outputs": [
    {
     "output_type": "stream",
     "name": "stdout",
     "text": [
      "{'bootstrap': True, 'ccp_alpha': 0.0, 'class_weight': None, 'criterion': 'gini', 'max_depth': None, 'max_features': 'auto', 'max_leaf_nodes': None, 'max_samples': None, 'min_impurity_decrease': 0.0, 'min_impurity_split': None, 'min_samples_leaf': 1, 'min_samples_split': 2, 'min_weight_fraction_leaf': 0.0, 'n_estimators': 100, 'n_jobs': None, 'oob_score': False, 'random_state': None, 'verbose': 0, 'warm_start': False}\n"
     ]
    }
   ],
   "source": [
    "print(rf_clf.get_params())"
   ]
  },
  {
   "cell_type": "code",
   "execution_count": 293,
   "metadata": {},
   "outputs": [
    {
     "output_type": "stream",
     "name": "stdout",
     "text": [
      "0.6945564516129034\n{'penalty': 'l2', 'n_jobs': 1}\n"
     ]
    }
   ],
   "source": [
    "grid_ln = {\"n_jobs\": list(range(1,5)),\n",
    "          \"penalty\":['l1', 'l2'],\n",
    "          }\n",
    "\n",
    "rand =RandomizedSearchCV(ln_clf, grid_ln,cv=5,random_state=1)\n",
    "rand.fit(rescaledX_train, y_train)\n",
    "rand.cv_results_\n",
    "print(rand.best_score_)\n",
    "print(rand.best_params_)"
   ]
  },
  {
   "cell_type": "code",
   "execution_count": 294,
   "metadata": {},
   "outputs": [
    {
     "output_type": "stream",
     "name": "stdout",
     "text": [
      "0.6306451612903226\n{'splitter': 'random', 'min_samples_split': 16, 'min_samples_leaf': 2, 'max_depth': 82, 'criterion': 'gini'}\n"
     ]
    }
   ],
   "source": [
    "grid_ds =  {'criterion':['gini', 'entropy'],\n",
    "            \"max_depth\": np.arange(2, 100, 2),\n",
    "            'min_samples_leaf' : np.arange(2, 10, 2),\n",
    "            'min_samples_split': np.arange(2, 20, 2),\n",
    "            'splitter':['best', 'random']}\n",
    "\n",
    "rand =RandomizedSearchCV(ds_clf, grid_ds,cv=5,random_state=1)\n",
    "rand.fit(rescaledX_train, y_train)\n",
    "rand.cv_results_\n",
    "print(rand.best_score_)\n",
    "print(rand.best_params_)"
   ]
  },
  {
   "cell_type": "code",
   "execution_count": 295,
   "metadata": {},
   "outputs": [
    {
     "output_type": "stream",
     "name": "stdout",
     "text": [
      "0.6491935483870968\n{'weights': 'distance', 'n_neighbors': 3, 'n_jobs': 3, 'leaf_size': 13, 'algorithm': 'auto'}\n"
     ]
    }
   ],
   "source": [
    "#knn\n",
    "grid_knn = {'algorithm':['auto', 'ball_tree','kd_tree','brute'],\n",
    "            \"n_neighbors\": list(range(1,10)),\n",
    "            \"leaf_size\" :list(range(1,30)),\n",
    "            \"weights\":('uniform','distance'),\n",
    "            \"n_jobs\": list(range(1,5))}\n",
    "\n",
    "rand = RandomizedSearchCV(knn_clf, grid_knn,cv=5, n_iter=10, random_state=1)\n",
    "rand.fit(rescaledX_train, y_train)\n",
    "rand.cv_results_\n",
    "print(rand.best_score_)\n",
    "print(rand.best_params_)"
   ]
  },
  {
   "cell_type": "code",
   "execution_count": 296,
   "metadata": {},
   "outputs": [
    {
     "output_type": "stream",
     "name": "stdout",
     "text": [
      "0.7199596774193548\n{'kernel': 'linear', 'gamma': 0.7000000000000001, 'C': 6}\n"
     ]
    }
   ],
   "source": [
    "#svc\n",
    "grid_svc = {\"C\": np.arange(2, 10, 2),\n",
    "             \"gamma\": np.arange(0.1, 1, 0.2),\n",
    "            \"kernel\" :('rbf','poly','linear')}\n",
    "\n",
    "rand = RandomizedSearchCV(svc_clf, grid_svc,cv=5, n_iter=10, random_state=1)\n",
    "rand.fit(rescaledX_train, y_train)\n",
    "rand.cv_results_\n",
    "print(rand.best_score_)\n",
    "print(rand.best_params_)"
   ]
  },
  {
   "cell_type": "code",
   "execution_count": 297,
   "metadata": {},
   "outputs": [
    {
     "output_type": "stream",
     "name": "stdout",
     "text": [
      "0.675\n{'min_samples_split': 2, 'min_samples_leaf': 8, 'max_features': 'auto', 'max_depth': 78, 'bootstrap': True}\n"
     ]
    }
   ],
   "source": [
    "#rf\n",
    "grid_rf = {\"max_depth\": np.arange(2, 100, 2),\n",
    "            'max_features': ['auto', 'sqrt'],\n",
    "            'min_samples_split': np.arange(2, 20, 2),\n",
    "            'min_samples_leaf' : np.arange(2, 10, 2),\n",
    "              \"bootstrap\": [True, False]}\n",
    "\n",
    "rand = RandomizedSearchCV(rf_clf, grid_rf,cv=5, n_iter=10, random_state=1)\n",
    "rand.fit(rescaledX_train, y_train)\n",
    "rand.cv_results_\n",
    "print(rand.best_score_)\n",
    "print(rand.best_params_)"
   ]
  },
  {
   "cell_type": "code",
   "execution_count": 298,
   "metadata": {},
   "outputs": [],
   "source": [
    "# Re-validation"
   ]
  },
  {
   "cell_type": "code",
   "execution_count": 299,
   "metadata": {},
   "outputs": [],
   "source": [
    "X_test = []\n",
    "y_test =[]\n",
    "boot = []\n",
    "oob =[]\n",
    "final_acc =[]\n",
    "np.random.seed(1)\n",
    "scaler = StandardScaler(copy=True,with_mean=True, with_std=True) \n",
    "ds_clf = DecisionTreeClassifier(splitter='best',min_samples_split= 4, min_samples_leaf= 4, max_depth= 14, criterion='gini')\n",
    "knn_clf = KNeighborsClassifier(weights='distance', n_neighbors= 8, n_jobs= 1, leaf_size= 12, algorithm= 'ball_tree')\n",
    "svc_clf = SVC(kernel= 'rbf', gamma= 0.9, C= 4)\n",
    "rf_clf = RandomForestClassifier(min_samples_split= 2, min_samples_leaf= 2, max_features= 'auto', max_depth= 6, bootstrap= True)\n",
    "\n",
    "def bootstrap_cross_validation(n_split,x_index,df_test,df_outcome):\n",
    "    #np.random.seed(1)\n",
    "    scaler = StandardScaler(copy=True,with_mean=True, with_std=True)\n",
    "    for i in range(n_split):\n",
    "        boot = resample(x_index, replace=True, n_samples=len(x_index))\n",
    "    #out of bag observations\n",
    "        oob = [x for x in x_index if x not in boot]\n",
    "        X_train = df_test.iloc[boot]\n",
    "        X_test = df_test.iloc[oob]\n",
    "        y_train = df_outcome.iloc[boot]\n",
    "        y_test = df_outcome.iloc[oob]\n",
    "        rescaledX_train =scaler.fit_transform(X_train)\n",
    "        rescaledX_test =scaler.fit_transform(X_test)\n",
    "        print('test ------------------------------------------')\n",
    "        for clf in (ln_clf,ds_clf, knn_clf, svc_clf, rf_clf,voting_clf,ada_clf,bagging_clf):\n",
    "            clf.fit(rescaledX_train, y_train)\n",
    "            y_pred = clf.predict(rescaledX_test)\n",
    "            final_acc.append(accuracy_score(y_test, y_pred))\n",
    "            print(clf.__class__.__name__,accuracy_score(y_test, y_pred))\n",
    "    return final_acc"
   ]
  },
  {
   "cell_type": "code",
   "execution_count": 301,
   "metadata": {},
   "outputs": [],
   "source": [
    "y_train =ga_gene.loc[:,'V2']\n",
    "y_test = hiseq_gene.loc[:,'V2']\n",
    "Index=range(0,len(rescaledX_test))"
   ]
  },
  {
   "cell_type": "code",
   "execution_count": 302,
   "metadata": {},
   "outputs": [
    {
     "output_type": "stream",
     "name": "stdout",
     "text": [
      "test ------------------------------------------\n",
      "LogisticRegression 0.5945945945945946\n",
      "DecisionTreeClassifier 0.6486486486486487\n",
      "KNeighborsClassifier 0.6351351351351351\n",
      "SVC 0.5675675675675675\n",
      "RandomForestClassifier 0.6486486486486487\n",
      "VotingClassifier 0.6216216216216216\n",
      "AdaBoostClassifier 0.6621621621621622\n",
      "BaggingClassifier 0.6081081081081081\n",
      "test ------------------------------------------\n",
      "LogisticRegression 0.7272727272727273\n",
      "DecisionTreeClassifier 0.5340909090909091\n",
      "KNeighborsClassifier 0.6363636363636364\n",
      "SVC 0.7159090909090909\n",
      "RandomForestClassifier 0.7159090909090909\n",
      "VotingClassifier 0.6818181818181818\n",
      "AdaBoostClassifier 0.6704545454545454\n",
      "BaggingClassifier 0.6136363636363636\n",
      "test ------------------------------------------\n",
      "LogisticRegression 0.7045454545454546\n",
      "DecisionTreeClassifier 0.6022727272727273\n",
      "KNeighborsClassifier 0.6477272727272727\n",
      "SVC 0.6931818181818182\n",
      "RandomForestClassifier 0.6363636363636364\n",
      "VotingClassifier 0.6931818181818182\n",
      "AdaBoostClassifier 0.5909090909090909\n",
      "BaggingClassifier 0.6136363636363636\n",
      "test ------------------------------------------\n",
      "LogisticRegression 0.6794871794871795\n",
      "DecisionTreeClassifier 0.47435897435897434\n",
      "KNeighborsClassifier 0.5897435897435898\n",
      "SVC 0.6025641025641025\n",
      "RandomForestClassifier 0.717948717948718\n",
      "VotingClassifier 0.6794871794871795\n",
      "AdaBoostClassifier 0.6538461538461539\n",
      "BaggingClassifier 0.5769230769230769\n",
      "test ------------------------------------------\n",
      "LogisticRegression 0.6666666666666666\n",
      "DecisionTreeClassifier 0.5476190476190477\n",
      "KNeighborsClassifier 0.6547619047619048\n",
      "SVC 0.6785714285714286\n",
      "RandomForestClassifier 0.6428571428571429\n",
      "VotingClassifier 0.6785714285714286\n",
      "AdaBoostClassifier 0.5952380952380952\n",
      "BaggingClassifier 0.5833333333333334\n",
      "test ------------------------------------------\n",
      "LogisticRegression 0.6404494382022472\n",
      "DecisionTreeClassifier 0.5168539325842697\n",
      "KNeighborsClassifier 0.5842696629213483\n",
      "SVC 0.6067415730337079\n",
      "RandomForestClassifier 0.6292134831460674\n",
      "VotingClassifier 0.651685393258427\n",
      "AdaBoostClassifier 0.5955056179775281\n",
      "BaggingClassifier 0.5955056179775281\n",
      "test ------------------------------------------\n",
      "LogisticRegression 0.6785714285714286\n",
      "DecisionTreeClassifier 0.6071428571428571\n",
      "KNeighborsClassifier 0.6547619047619048\n",
      "SVC 0.7142857142857143\n",
      "RandomForestClassifier 0.7142857142857143\n",
      "VotingClassifier 0.6428571428571429\n",
      "AdaBoostClassifier 0.6071428571428571\n",
      "BaggingClassifier 0.6666666666666666\n",
      "test ------------------------------------------\n",
      "LogisticRegression 0.6590909090909091\n",
      "DecisionTreeClassifier 0.6818181818181818\n",
      "KNeighborsClassifier 0.625\n",
      "SVC 0.6363636363636364\n",
      "RandomForestClassifier 0.6477272727272727\n",
      "VotingClassifier 0.6477272727272727\n",
      "AdaBoostClassifier 0.6477272727272727\n",
      "BaggingClassifier 0.6477272727272727\n",
      "test ------------------------------------------\n",
      "LogisticRegression 0.6296296296296297\n",
      "DecisionTreeClassifier 0.5679012345679012\n",
      "KNeighborsClassifier 0.6419753086419753\n",
      "SVC 0.6172839506172839\n",
      "RandomForestClassifier 0.654320987654321\n",
      "VotingClassifier 0.654320987654321\n",
      "AdaBoostClassifier 0.5555555555555556\n",
      "BaggingClassifier 0.5555555555555556\n",
      "test ------------------------------------------\n",
      "LogisticRegression 0.6375\n",
      "DecisionTreeClassifier 0.6375\n",
      "KNeighborsClassifier 0.75\n",
      "SVC 0.6875\n",
      "RandomForestClassifier 0.6625\n",
      "VotingClassifier 0.6875\n",
      "AdaBoostClassifier 0.6125\n",
      "BaggingClassifier 0.6\n"
     ]
    }
   ],
   "source": [
    "final_acc = bootstrap_cross_validation(10,Index,testhiseq,y_test)"
   ]
  },
  {
   "cell_type": "code",
   "execution_count": 303,
   "metadata": {},
   "outputs": [],
   "source": [
    "def row_major(alist, sublen):      \n",
    "    return [alist[i:i+sublen] for i in range(0, len(alist), sublen)]\n",
    "r_acc =[]\n",
    "for r in row_major(final_acc, 8): \n",
    "    r_acc.append(r)"
   ]
  },
  {
   "cell_type": "code",
   "execution_count": 304,
   "metadata": {},
   "outputs": [
    {
     "output_type": "execute_result",
     "data": {
      "text/plain": [
       "               0          1          2          3          4          5  \\\n",
       "count  10.000000  10.000000  10.000000  10.000000  10.000000  10.000000   \n",
       "mean    0.661781   0.581821   0.641974   0.651997   0.666977   0.663877   \n",
       "std     0.038495   0.065009   0.045282   0.052384   0.035059   0.023396   \n",
       "min     0.594595   0.474359   0.584270   0.567568   0.629213   0.621622   \n",
       "25%     0.638237   0.537473   0.627534   0.609377   0.644075   0.648717   \n",
       "50%     0.662879   0.585087   0.639169   0.657468   0.651485   0.666446   \n",
       "75%     0.679258   0.629911   0.653003   0.691761   0.701339   0.681235   \n",
       "max     0.727273   0.681818   0.750000   0.715909   0.717949   0.693182   \n",
       "\n",
       "               6          7  \n",
       "count  10.000000  10.000000  \n",
       "mean    0.619104   0.606109  \n",
       "std     0.037511   0.032647  \n",
       "min     0.555556   0.555556  \n",
       "25%     0.595305   0.586376  \n",
       "50%     0.609821   0.604054  \n",
       "75%     0.652316   0.613636  \n",
       "max     0.670455   0.666667  "
      ],
      "text/html": "<div>\n<style scoped>\n    .dataframe tbody tr th:only-of-type {\n        vertical-align: middle;\n    }\n\n    .dataframe tbody tr th {\n        vertical-align: top;\n    }\n\n    .dataframe thead th {\n        text-align: right;\n    }\n</style>\n<table border=\"1\" class=\"dataframe\">\n  <thead>\n    <tr style=\"text-align: right;\">\n      <th></th>\n      <th>0</th>\n      <th>1</th>\n      <th>2</th>\n      <th>3</th>\n      <th>4</th>\n      <th>5</th>\n      <th>6</th>\n      <th>7</th>\n    </tr>\n  </thead>\n  <tbody>\n    <tr>\n      <th>count</th>\n      <td>10.000000</td>\n      <td>10.000000</td>\n      <td>10.000000</td>\n      <td>10.000000</td>\n      <td>10.000000</td>\n      <td>10.000000</td>\n      <td>10.000000</td>\n      <td>10.000000</td>\n    </tr>\n    <tr>\n      <th>mean</th>\n      <td>0.661781</td>\n      <td>0.581821</td>\n      <td>0.641974</td>\n      <td>0.651997</td>\n      <td>0.666977</td>\n      <td>0.663877</td>\n      <td>0.619104</td>\n      <td>0.606109</td>\n    </tr>\n    <tr>\n      <th>std</th>\n      <td>0.038495</td>\n      <td>0.065009</td>\n      <td>0.045282</td>\n      <td>0.052384</td>\n      <td>0.035059</td>\n      <td>0.023396</td>\n      <td>0.037511</td>\n      <td>0.032647</td>\n    </tr>\n    <tr>\n      <th>min</th>\n      <td>0.594595</td>\n      <td>0.474359</td>\n      <td>0.584270</td>\n      <td>0.567568</td>\n      <td>0.629213</td>\n      <td>0.621622</td>\n      <td>0.555556</td>\n      <td>0.555556</td>\n    </tr>\n    <tr>\n      <th>25%</th>\n      <td>0.638237</td>\n      <td>0.537473</td>\n      <td>0.627534</td>\n      <td>0.609377</td>\n      <td>0.644075</td>\n      <td>0.648717</td>\n      <td>0.595305</td>\n      <td>0.586376</td>\n    </tr>\n    <tr>\n      <th>50%</th>\n      <td>0.662879</td>\n      <td>0.585087</td>\n      <td>0.639169</td>\n      <td>0.657468</td>\n      <td>0.651485</td>\n      <td>0.666446</td>\n      <td>0.609821</td>\n      <td>0.604054</td>\n    </tr>\n    <tr>\n      <th>75%</th>\n      <td>0.679258</td>\n      <td>0.629911</td>\n      <td>0.653003</td>\n      <td>0.691761</td>\n      <td>0.701339</td>\n      <td>0.681235</td>\n      <td>0.652316</td>\n      <td>0.613636</td>\n    </tr>\n    <tr>\n      <th>max</th>\n      <td>0.727273</td>\n      <td>0.681818</td>\n      <td>0.750000</td>\n      <td>0.715909</td>\n      <td>0.717949</td>\n      <td>0.693182</td>\n      <td>0.670455</td>\n      <td>0.666667</td>\n    </tr>\n  </tbody>\n</table>\n</div>"
     },
     "metadata": {},
     "execution_count": 304
    }
   ],
   "source": [
    "r_acc = pd.DataFrame(r_acc)\n",
    "r_acc.describe()"
   ]
  },
  {
   "cell_type": "code",
   "execution_count": null,
   "metadata": {},
   "outputs": [],
   "source": []
  }
 ]
}